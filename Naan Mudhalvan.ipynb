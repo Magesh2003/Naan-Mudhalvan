{
  "metadata": {
    "kernelspec": {
      "language": "python",
      "display_name": "Python 3",
      "name": "python3"
    },
    "language_info": {
      "name": "python",
      "version": "3.6.6",
      "mimetype": "text/x-python",
      "codemirror_mode": {
        "name": "ipython",
        "version": 3
      },
      "pygments_lexer": "ipython3",
      "nbconvert_exporter": "python",
      "file_extension": ".py"
    },
    "colab": {
      "provenance": []
    }
  },
  "nbformat_minor": 0,
  "nbformat": 4,
  "cells": [
    {
      "cell_type": "code",
      "source": [
        "#codes from Rodrigo Lima  @rodrigolima82\n",
        "from IPython.display import Image\n",
        "Image(url = 'https://encrypted-tbn0.gstatic.com/images?q=tbn%3AANd9GcQc1dsRByBtIHIPIHDTDkSZvXblWD7EU9YRoEJS4KmZWPdeNDaB',width=400,height=400)"
      ],
      "metadata": {
        "_kg_hide-input": true,
        "execution": {
          "iopub.status.busy": "2023-10-12T04:06:53.343938Z",
          "iopub.execute_input": "2023-10-12T04:06:53.344797Z",
          "iopub.status.idle": "2023-10-12T04:06:53.357843Z",
          "shell.execute_reply.started": "2023-10-12T04:06:53.344427Z",
          "shell.execute_reply": "2023-10-12T04:06:53.356279Z"
        },
        "trusted": true,
        "id": "1sCACvuHD_oT",
        "outputId": "f3a4f3e5-5241-4a4d-a4ca-af676717a7ac",
        "colab": {
          "base_uri": "https://localhost:8080/",
          "height": 422
        }
      },
      "execution_count": null,
      "outputs": [
        {
          "output_type": "execute_result",
          "data": {
            "text/html": [
              "<img src=\"https://encrypted-tbn0.gstatic.com/images?q=tbn%3AANd9GcQc1dsRByBtIHIPIHDTDkSZvXblWD7EU9YRoEJS4KmZWPdeNDaB\" width=\"400\" height=\"400\"/>"
            ],
            "text/plain": [
              "<IPython.core.display.Image object>"
            ]
          },
          "metadata": {},
          "execution_count": 1
        }
      ]
    },
    {
      "cell_type": "code",
      "source": [
        "#codes from Rodrigo Lima  @rodrigolima82\n",
        "from IPython.display import Image\n",
        "Image(url = 'https://encrypted-tbn0.gstatic.com/images?q=tbn%3AANd9GcT9H9fUX-umZtjalXLoelye60N4tvM273Pe7R21nOFZdrvP4GCV',width=400,height=400)"
      ],
      "metadata": {
        "_kg_hide-input": true,
        "execution": {
          "iopub.status.busy": "2023-10-12T04:06:53.360256Z",
          "iopub.execute_input": "2023-10-12T04:06:53.361035Z",
          "iopub.status.idle": "2023-10-12T04:06:53.372592Z",
          "shell.execute_reply.started": "2023-10-12T04:06:53.360923Z",
          "shell.execute_reply": "2023-10-12T04:06:53.371393Z"
        },
        "trusted": true,
        "id": "UUIyBirKD_oU",
        "outputId": "7b11dc02-b276-409b-adaa-5e6578f48fdc",
        "colab": {
          "base_uri": "https://localhost:8080/",
          "height": 422
        }
      },
      "execution_count": null,
      "outputs": [
        {
          "output_type": "execute_result",
          "data": {
            "text/html": [
              "<img src=\"https://encrypted-tbn0.gstatic.com/images?q=tbn%3AANd9GcT9H9fUX-umZtjalXLoelye60N4tvM273Pe7R21nOFZdrvP4GCV\" width=\"400\" height=\"400\"/>"
            ],
            "text/plain": [
              "<IPython.core.display.Image object>"
            ]
          },
          "metadata": {},
          "execution_count": 2
        }
      ]
    },
    {
      "cell_type": "code",
      "source": [
        "import numpy as np # linear algebra\n",
        "import pandas as pd # data processing, CSV file I/O (e.g. pd.read_csv)\n",
        "import seaborn as sns\n",
        "import matplotlib.pyplot as plt\n",
        "from sklearn import feature_extraction, linear_model, model_selection, preprocessing\n",
        "import plotly.graph_objs as go\n",
        "import plotly.offline as py\n",
        "import plotly.express as px\n",
        "\n",
        "# Input data files are available in the \"../input/\" directory.\n",
        "# For example, running this (by clicking run or pressing Shift+Enter) will list all files under the input directory\n",
        "\n",
        "import os\n",
        "for dirname, _, filenames in os.walk('/kaggle/input'):\n",
        "    for filename in filenames:\n",
        "        print(os.path.join(dirname, filename))\n",
        "\n",
        "# Any results you write to the current directory are saved as output."
      ],
      "metadata": {
        "_uuid": "8f2839f25d086af736a60e9eeb907d3b93b6e0e5",
        "_cell_guid": "b1076dfc-b9ad-4769-8c92-a6c4dae69d19",
        "_kg_hide-output": true,
        "execution": {
          "iopub.status.busy": "2023-10-12T04:06:53.374531Z",
          "iopub.execute_input": "2023-10-12T04:06:53.375248Z",
          "iopub.status.idle": "2023-10-12T04:06:55.944813Z",
          "shell.execute_reply.started": "2023-10-12T04:06:53.375191Z",
          "shell.execute_reply": "2023-10-12T04:06:55.943703Z"
        },
        "trusted": true,
        "id": "4H6kwZwJD_oU"
      },
      "execution_count": null,
      "outputs": []
    },
    {
      "cell_type": "code",
      "source": [
        "nRowsRead = 1000 # specify 'None' if want to read whole file\n",
        "df = pd.read_csv('../input/cusersmarildownloadsctcsv/ct.csv', delimiter=';', encoding = \"ISO-8859-1\", nrows = nRowsRead)\n",
        "df.dataframeName = 'ct.csv'\n",
        "nRow, nCol = df.shape\n",
        "print(f'There are {nRow} rows and {nCol} columns')"
      ],
      "metadata": {
        "_uuid": "d629ff2d2480ee46fbb7e2d37f6b5fab8052498a",
        "_cell_guid": "79c7e3d0-c299-4dcb-8224-4455121ee9b0",
        "execution": {
          "iopub.status.busy": "2023-10-12T04:06:55.948137Z",
          "iopub.execute_input": "2023-10-12T04:06:55.948636Z",
          "iopub.status.idle": "2023-10-12T04:06:55.971086Z",
          "shell.execute_reply.started": "2023-10-12T04:06:55.948543Z",
          "shell.execute_reply": "2023-10-12T04:06:55.970306Z"
        },
        "trusted": true,
        "id": "RmJWERW8D_oU",
        "outputId": "b40e8c1d-ab48-4725-cfd9-213288979a34",
        "colab": {
          "base_uri": "https://localhost:8080/",
          "height": 356
        }
      },
      "execution_count": null,
      "outputs": [
        {
          "output_type": "error",
          "ename": "FileNotFoundError",
          "evalue": "[Errno 2] No such file or directory: '../input/cusersmarildownloadsctcsv/ct.csv'",
          "traceback": [
            "\u001b[0;31m---------------------------------------------------------------------------\u001b[0m",
            "\u001b[0;31mFileNotFoundError\u001b[0m                         Traceback (most recent call last)",
            "\u001b[0;32m<ipython-input-4-d868c816bda0>\u001b[0m in \u001b[0;36m<cell line: 2>\u001b[0;34m()\u001b[0m\n\u001b[1;32m      1\u001b[0m \u001b[0mnRowsRead\u001b[0m \u001b[0;34m=\u001b[0m \u001b[0;36m1000\u001b[0m \u001b[0;31m# specify 'None' if want to read whole file\u001b[0m\u001b[0;34m\u001b[0m\u001b[0;34m\u001b[0m\u001b[0m\n\u001b[0;32m----> 2\u001b[0;31m \u001b[0mdf\u001b[0m \u001b[0;34m=\u001b[0m \u001b[0mpd\u001b[0m\u001b[0;34m.\u001b[0m\u001b[0mread_csv\u001b[0m\u001b[0;34m(\u001b[0m\u001b[0;34m'../input/cusersmarildownloadsctcsv/ct.csv'\u001b[0m\u001b[0;34m,\u001b[0m \u001b[0mdelimiter\u001b[0m\u001b[0;34m=\u001b[0m\u001b[0;34m';'\u001b[0m\u001b[0;34m,\u001b[0m \u001b[0mencoding\u001b[0m \u001b[0;34m=\u001b[0m \u001b[0;34m\"ISO-8859-1\"\u001b[0m\u001b[0;34m,\u001b[0m \u001b[0mnrows\u001b[0m \u001b[0;34m=\u001b[0m \u001b[0mnRowsRead\u001b[0m\u001b[0;34m)\u001b[0m\u001b[0;34m\u001b[0m\u001b[0;34m\u001b[0m\u001b[0m\n\u001b[0m\u001b[1;32m      3\u001b[0m \u001b[0mdf\u001b[0m\u001b[0;34m.\u001b[0m\u001b[0mdataframeName\u001b[0m \u001b[0;34m=\u001b[0m \u001b[0;34m'ct.csv'\u001b[0m\u001b[0;34m\u001b[0m\u001b[0;34m\u001b[0m\u001b[0m\n\u001b[1;32m      4\u001b[0m \u001b[0mnRow\u001b[0m\u001b[0;34m,\u001b[0m \u001b[0mnCol\u001b[0m \u001b[0;34m=\u001b[0m \u001b[0mdf\u001b[0m\u001b[0;34m.\u001b[0m\u001b[0mshape\u001b[0m\u001b[0;34m\u001b[0m\u001b[0;34m\u001b[0m\u001b[0m\n\u001b[1;32m      5\u001b[0m \u001b[0mprint\u001b[0m\u001b[0;34m(\u001b[0m\u001b[0;34mf'There are {nRow} rows and {nCol} columns'\u001b[0m\u001b[0;34m)\u001b[0m\u001b[0;34m\u001b[0m\u001b[0;34m\u001b[0m\u001b[0m\n",
            "\u001b[0;32m/usr/local/lib/python3.10/dist-packages/pandas/io/parsers/readers.py\u001b[0m in \u001b[0;36mread_csv\u001b[0;34m(filepath_or_buffer, sep, delimiter, header, names, index_col, usecols, dtype, engine, converters, true_values, false_values, skipinitialspace, skiprows, skipfooter, nrows, na_values, keep_default_na, na_filter, verbose, skip_blank_lines, parse_dates, infer_datetime_format, keep_date_col, date_parser, date_format, dayfirst, cache_dates, iterator, chunksize, compression, thousands, decimal, lineterminator, quotechar, quoting, doublequote, escapechar, comment, encoding, encoding_errors, dialect, on_bad_lines, delim_whitespace, low_memory, memory_map, float_precision, storage_options, dtype_backend)\u001b[0m\n\u001b[1;32m    910\u001b[0m     \u001b[0mkwds\u001b[0m\u001b[0;34m.\u001b[0m\u001b[0mupdate\u001b[0m\u001b[0;34m(\u001b[0m\u001b[0mkwds_defaults\u001b[0m\u001b[0;34m)\u001b[0m\u001b[0;34m\u001b[0m\u001b[0;34m\u001b[0m\u001b[0m\n\u001b[1;32m    911\u001b[0m \u001b[0;34m\u001b[0m\u001b[0m\n\u001b[0;32m--> 912\u001b[0;31m     \u001b[0;32mreturn\u001b[0m \u001b[0m_read\u001b[0m\u001b[0;34m(\u001b[0m\u001b[0mfilepath_or_buffer\u001b[0m\u001b[0;34m,\u001b[0m \u001b[0mkwds\u001b[0m\u001b[0;34m)\u001b[0m\u001b[0;34m\u001b[0m\u001b[0;34m\u001b[0m\u001b[0m\n\u001b[0m\u001b[1;32m    913\u001b[0m \u001b[0;34m\u001b[0m\u001b[0m\n\u001b[1;32m    914\u001b[0m \u001b[0;34m\u001b[0m\u001b[0m\n",
            "\u001b[0;32m/usr/local/lib/python3.10/dist-packages/pandas/io/parsers/readers.py\u001b[0m in \u001b[0;36m_read\u001b[0;34m(filepath_or_buffer, kwds)\u001b[0m\n\u001b[1;32m    575\u001b[0m \u001b[0;34m\u001b[0m\u001b[0m\n\u001b[1;32m    576\u001b[0m     \u001b[0;31m# Create the parser.\u001b[0m\u001b[0;34m\u001b[0m\u001b[0;34m\u001b[0m\u001b[0m\n\u001b[0;32m--> 577\u001b[0;31m     \u001b[0mparser\u001b[0m \u001b[0;34m=\u001b[0m \u001b[0mTextFileReader\u001b[0m\u001b[0;34m(\u001b[0m\u001b[0mfilepath_or_buffer\u001b[0m\u001b[0;34m,\u001b[0m \u001b[0;34m**\u001b[0m\u001b[0mkwds\u001b[0m\u001b[0;34m)\u001b[0m\u001b[0;34m\u001b[0m\u001b[0;34m\u001b[0m\u001b[0m\n\u001b[0m\u001b[1;32m    578\u001b[0m \u001b[0;34m\u001b[0m\u001b[0m\n\u001b[1;32m    579\u001b[0m     \u001b[0;32mif\u001b[0m \u001b[0mchunksize\u001b[0m \u001b[0;32mor\u001b[0m \u001b[0miterator\u001b[0m\u001b[0;34m:\u001b[0m\u001b[0;34m\u001b[0m\u001b[0;34m\u001b[0m\u001b[0m\n",
            "\u001b[0;32m/usr/local/lib/python3.10/dist-packages/pandas/io/parsers/readers.py\u001b[0m in \u001b[0;36m__init__\u001b[0;34m(self, f, engine, **kwds)\u001b[0m\n\u001b[1;32m   1405\u001b[0m \u001b[0;34m\u001b[0m\u001b[0m\n\u001b[1;32m   1406\u001b[0m         \u001b[0mself\u001b[0m\u001b[0;34m.\u001b[0m\u001b[0mhandles\u001b[0m\u001b[0;34m:\u001b[0m \u001b[0mIOHandles\u001b[0m \u001b[0;34m|\u001b[0m \u001b[0;32mNone\u001b[0m \u001b[0;34m=\u001b[0m \u001b[0;32mNone\u001b[0m\u001b[0;34m\u001b[0m\u001b[0;34m\u001b[0m\u001b[0m\n\u001b[0;32m-> 1407\u001b[0;31m         \u001b[0mself\u001b[0m\u001b[0;34m.\u001b[0m\u001b[0m_engine\u001b[0m \u001b[0;34m=\u001b[0m \u001b[0mself\u001b[0m\u001b[0;34m.\u001b[0m\u001b[0m_make_engine\u001b[0m\u001b[0;34m(\u001b[0m\u001b[0mf\u001b[0m\u001b[0;34m,\u001b[0m \u001b[0mself\u001b[0m\u001b[0;34m.\u001b[0m\u001b[0mengine\u001b[0m\u001b[0;34m)\u001b[0m\u001b[0;34m\u001b[0m\u001b[0;34m\u001b[0m\u001b[0m\n\u001b[0m\u001b[1;32m   1408\u001b[0m \u001b[0;34m\u001b[0m\u001b[0m\n\u001b[1;32m   1409\u001b[0m     \u001b[0;32mdef\u001b[0m \u001b[0mclose\u001b[0m\u001b[0;34m(\u001b[0m\u001b[0mself\u001b[0m\u001b[0;34m)\u001b[0m \u001b[0;34m->\u001b[0m \u001b[0;32mNone\u001b[0m\u001b[0;34m:\u001b[0m\u001b[0;34m\u001b[0m\u001b[0;34m\u001b[0m\u001b[0m\n",
            "\u001b[0;32m/usr/local/lib/python3.10/dist-packages/pandas/io/parsers/readers.py\u001b[0m in \u001b[0;36m_make_engine\u001b[0;34m(self, f, engine)\u001b[0m\n\u001b[1;32m   1659\u001b[0m                 \u001b[0;32mif\u001b[0m \u001b[0;34m\"b\"\u001b[0m \u001b[0;32mnot\u001b[0m \u001b[0;32min\u001b[0m \u001b[0mmode\u001b[0m\u001b[0;34m:\u001b[0m\u001b[0;34m\u001b[0m\u001b[0;34m\u001b[0m\u001b[0m\n\u001b[1;32m   1660\u001b[0m                     \u001b[0mmode\u001b[0m \u001b[0;34m+=\u001b[0m \u001b[0;34m\"b\"\u001b[0m\u001b[0;34m\u001b[0m\u001b[0;34m\u001b[0m\u001b[0m\n\u001b[0;32m-> 1661\u001b[0;31m             self.handles = get_handle(\n\u001b[0m\u001b[1;32m   1662\u001b[0m                 \u001b[0mf\u001b[0m\u001b[0;34m,\u001b[0m\u001b[0;34m\u001b[0m\u001b[0;34m\u001b[0m\u001b[0m\n\u001b[1;32m   1663\u001b[0m                 \u001b[0mmode\u001b[0m\u001b[0;34m,\u001b[0m\u001b[0;34m\u001b[0m\u001b[0;34m\u001b[0m\u001b[0m\n",
            "\u001b[0;32m/usr/local/lib/python3.10/dist-packages/pandas/io/common.py\u001b[0m in \u001b[0;36mget_handle\u001b[0;34m(path_or_buf, mode, encoding, compression, memory_map, is_text, errors, storage_options)\u001b[0m\n\u001b[1;32m    857\u001b[0m         \u001b[0;32mif\u001b[0m \u001b[0mioargs\u001b[0m\u001b[0;34m.\u001b[0m\u001b[0mencoding\u001b[0m \u001b[0;32mand\u001b[0m \u001b[0;34m\"b\"\u001b[0m \u001b[0;32mnot\u001b[0m \u001b[0;32min\u001b[0m \u001b[0mioargs\u001b[0m\u001b[0;34m.\u001b[0m\u001b[0mmode\u001b[0m\u001b[0;34m:\u001b[0m\u001b[0;34m\u001b[0m\u001b[0;34m\u001b[0m\u001b[0m\n\u001b[1;32m    858\u001b[0m             \u001b[0;31m# Encoding\u001b[0m\u001b[0;34m\u001b[0m\u001b[0;34m\u001b[0m\u001b[0m\n\u001b[0;32m--> 859\u001b[0;31m             handle = open(\n\u001b[0m\u001b[1;32m    860\u001b[0m                 \u001b[0mhandle\u001b[0m\u001b[0;34m,\u001b[0m\u001b[0;34m\u001b[0m\u001b[0;34m\u001b[0m\u001b[0m\n\u001b[1;32m    861\u001b[0m                 \u001b[0mioargs\u001b[0m\u001b[0;34m.\u001b[0m\u001b[0mmode\u001b[0m\u001b[0;34m,\u001b[0m\u001b[0;34m\u001b[0m\u001b[0;34m\u001b[0m\u001b[0m\n",
            "\u001b[0;31mFileNotFoundError\u001b[0m: [Errno 2] No such file or directory: '../input/cusersmarildownloadsctcsv/ct.csv'"
          ]
        }
      ]
    },
    {
      "cell_type": "code",
      "source": [
        "#codes from Rodrigo Lima  @rodrigolima82\n",
        "from IPython.display import Image\n",
        "Image(url = 'https://encrypted-tbn0.gstatic.com/images?q=tbn%3AANd9GcTd3FY0zJNrZQApjJHGnH-nctY4w10Wrwy3-nZ34duhaOyY3_RP',width=400,height=400)"
      ],
      "metadata": {
        "_kg_hide-input": true,
        "execution": {
          "iopub.status.busy": "2023-10-12T04:06:55.973400Z",
          "iopub.execute_input": "2023-10-12T04:06:55.974035Z",
          "iopub.status.idle": "2023-10-12T04:06:55.981105Z",
          "shell.execute_reply.started": "2023-10-12T04:06:55.973980Z",
          "shell.execute_reply": "2023-10-12T04:06:55.980063Z"
        },
        "trusted": true,
        "id": "ScwgvlRbD_oU"
      },
      "execution_count": null,
      "outputs": []
    },
    {
      "cell_type": "code",
      "source": [
        "df.head().style.background_gradient(cmap='Wistia')"
      ],
      "metadata": {
        "execution": {
          "iopub.status.busy": "2023-10-12T04:06:55.982304Z",
          "iopub.execute_input": "2023-10-12T04:06:55.982651Z",
          "iopub.status.idle": "2023-10-12T04:06:56.080153Z",
          "shell.execute_reply.started": "2023-10-12T04:06:55.982596Z",
          "shell.execute_reply": "2023-10-12T04:06:56.079094Z"
        },
        "trusted": true,
        "id": "tCUoS5cND_oV"
      },
      "execution_count": null,
      "outputs": []
    },
    {
      "cell_type": "code",
      "source": [
        "cnt_srs = df['quantity'].value_counts().head()\n",
        "trace = go.Bar(\n",
        "    y=cnt_srs.index[::-1],\n",
        "    x=cnt_srs.values[::-1],\n",
        "    orientation = 'h',\n",
        "    marker=dict(\n",
        "        color=cnt_srs.values[::-1],\n",
        "        colorscale = 'Greens',\n",
        "        reversescale = True\n",
        "    ),\n",
        ")\n",
        "\n",
        "layout = dict(\n",
        "    title='CT Scan Distribution',\n",
        "    )\n",
        "data = [trace]\n",
        "fig = go.Figure(data=data, layout=layout)\n",
        "py.iplot(fig, filename=\"quantity\")"
      ],
      "metadata": {
        "_kg_hide-input": true,
        "execution": {
          "iopub.status.busy": "2023-10-12T04:06:56.081923Z",
          "iopub.execute_input": "2023-10-12T04:06:56.082426Z",
          "iopub.status.idle": "2023-10-12T04:06:57.665663Z",
          "shell.execute_reply.started": "2023-10-12T04:06:56.082313Z",
          "shell.execute_reply": "2023-10-12T04:06:57.665002Z"
        },
        "trusted": true,
        "id": "RJHsYkgfD_oV"
      },
      "execution_count": null,
      "outputs": []
    },
    {
      "cell_type": "code",
      "source": [
        "#codes from Rodrigo Lima  @rodrigolima82\n",
        "from IPython.display import Image\n",
        "Image(url = 'https://www.businessinsider.in/thumb/msid-74126642,width-640,resizemode-4,imgsize-598663/but-coronavirus-scans-tend-to-have-white-patches-that-radiologists-refer-to-as-ground-glass-opacity-.jpg',width=400,height=400)"
      ],
      "metadata": {
        "_kg_hide-input": true,
        "execution": {
          "iopub.status.busy": "2023-10-12T04:06:57.666775Z",
          "iopub.execute_input": "2023-10-12T04:06:57.667113Z",
          "iopub.status.idle": "2023-10-12T04:06:57.673442Z",
          "shell.execute_reply.started": "2023-10-12T04:06:57.667055Z",
          "shell.execute_reply": "2023-10-12T04:06:57.672365Z"
        },
        "trusted": true,
        "id": "hiQihWFjD_oV"
      },
      "execution_count": null,
      "outputs": []
    },
    {
      "cell_type": "code",
      "source": [
        "quantity = df.groupby([\"city_code\"])[\"quantity\"].sum().reset_index().sort_values(\"quantity\",ascending=False).reset_index(drop=True)\n",
        "quantity"
      ],
      "metadata": {
        "execution": {
          "iopub.status.busy": "2023-10-12T04:06:57.675196Z",
          "iopub.execute_input": "2023-10-12T04:06:57.675560Z",
          "iopub.status.idle": "2023-10-12T04:06:57.704754Z",
          "shell.execute_reply.started": "2023-10-12T04:06:57.675501Z",
          "shell.execute_reply": "2023-10-12T04:06:57.703748Z"
        },
        "trusted": true,
        "id": "jIwcJrwSD_oV"
      },
      "execution_count": null,
      "outputs": []
    },
    {
      "cell_type": "code",
      "source": [
        "fig = go.Figure(data=[go.Bar(\n",
        "            x=quantity['city_code'][0:10], y=quantity['quantity'][0:10],\n",
        "            text=quantity['quantity'][0:10],\n",
        "            textposition='auto',\n",
        "            marker_color='black'\n",
        "\n",
        "        )])\n",
        "fig.update_layout(\n",
        "    title='Quantity',\n",
        "    xaxis_title=\"city_code\",\n",
        "    yaxis_title=\"quantity\",\n",
        ")\n",
        "fig.show()"
      ],
      "metadata": {
        "execution": {
          "iopub.status.busy": "2023-10-12T04:06:57.706133Z",
          "iopub.execute_input": "2023-10-12T04:06:57.706427Z",
          "iopub.status.idle": "2023-10-12T04:06:57.859744Z",
          "shell.execute_reply.started": "2023-10-12T04:06:57.706386Z",
          "shell.execute_reply": "2023-10-12T04:06:57.858739Z"
        },
        "trusted": true,
        "id": "ZHj-AotVD_oV"
      },
      "execution_count": null,
      "outputs": []
    },
    {
      "cell_type": "code",
      "source": [
        "fig = go.Figure(data=[go.Scatter(\n",
        "    x=quantity['city_code'][0:10],\n",
        "    y=quantity['quantity'][0:10],\n",
        "    mode='markers',\n",
        "    marker=dict(\n",
        "        color=[145, 140, 135, 130, 125, 120,115,110,105,100],\n",
        "        size=[100, 90, 70, 60, 60, 60,50,50,40,35],\n",
        "        showscale=True\n",
        "        )\n",
        ")])\n",
        "fig.update_layout(\n",
        "    title='CT Scan',\n",
        "    xaxis_title=\"Cities\",\n",
        "    yaxis_title=\"Quantity\",\n",
        ")\n",
        "fig.show()"
      ],
      "metadata": {
        "execution": {
          "iopub.status.busy": "2023-10-12T04:06:57.861410Z",
          "iopub.execute_input": "2023-10-12T04:06:57.861780Z",
          "iopub.status.idle": "2023-10-12T04:06:58.020848Z",
          "shell.execute_reply.started": "2023-10-12T04:06:57.861711Z",
          "shell.execute_reply": "2023-10-12T04:06:58.019777Z"
        },
        "trusted": true,
        "id": "07pc5EH5D_oW"
      },
      "execution_count": null,
      "outputs": []
    },
    {
      "cell_type": "code",
      "source": [
        "labels = [\"city_code\",\"quantity\"]\n",
        "values = quantity.loc[0, [\"city_code\",\"quantity\"]]\n",
        "df = px.data.tips()\n",
        "fig = px.pie(quantity, values=values, names=labels, color_discrete_sequence=['royalblue','darkblue','lightcyan'])\n",
        "fig.update_layout(\n",
        "    title='Total quantity : '+str(quantity[\"quantity\"][0]),\n",
        ")\n",
        "fig.show()"
      ],
      "metadata": {
        "execution": {
          "iopub.status.busy": "2023-10-12T04:06:58.022537Z",
          "iopub.execute_input": "2023-10-12T04:06:58.023023Z",
          "iopub.status.idle": "2023-10-12T04:06:58.432356Z",
          "shell.execute_reply.started": "2023-10-12T04:06:58.022956Z",
          "shell.execute_reply": "2023-10-12T04:06:58.431223Z"
        },
        "trusted": true,
        "id": "_TmMVZl0D_oW"
      },
      "execution_count": null,
      "outputs": []
    },
    {
      "cell_type": "code",
      "source": [
        "#codes from Rodrigo Lima  @rodrigolima82\n",
        "from IPython.display import Image\n",
        "Image(url = 'https://www.businessinsider.in/thumb/msid-74126639,width-640,resizemode-4,imgsize-499455/scans-from-a-27-year-old-woman-who-worked-in-wuhan-showed-a-ground-glass-halo-white-patches-that-surround-a-small-nodule-.jpg',width=400,height=400)"
      ],
      "metadata": {
        "_kg_hide-input": true,
        "execution": {
          "iopub.status.busy": "2023-10-12T04:06:58.434187Z",
          "iopub.execute_input": "2023-10-12T04:06:58.434666Z",
          "iopub.status.idle": "2023-10-12T04:06:58.441895Z",
          "shell.execute_reply.started": "2023-10-12T04:06:58.434597Z",
          "shell.execute_reply": "2023-10-12T04:06:58.440838Z"
        },
        "trusted": true,
        "id": "-gM8_hJVD_oW"
      },
      "execution_count": null,
      "outputs": []
    },
    {
      "cell_type": "code",
      "source": [
        "fig = px.pie(quantity, values=quantity['quantity'], names=quantity['city_code'],\n",
        "             title='Recovered cases',\n",
        "            )\n",
        "fig.update_traces(textposition='inside', textinfo='percent+label')\n",
        "fig.show()"
      ],
      "metadata": {
        "execution": {
          "iopub.status.busy": "2023-10-12T04:06:58.443376Z",
          "iopub.execute_input": "2023-10-12T04:06:58.444112Z",
          "iopub.status.idle": "2023-10-12T04:06:58.743472Z",
          "shell.execute_reply.started": "2023-10-12T04:06:58.443785Z",
          "shell.execute_reply": "2023-10-12T04:06:58.742246Z"
        },
        "trusted": true,
        "id": "-TCDRrd-D_oW"
      },
      "execution_count": null,
      "outputs": []
    },
    {
      "cell_type": "code",
      "source": [
        "#codes from Rodrigo Lima  @rodrigolima82\n",
        "from IPython.display import Image\n",
        "Image(url = 'data:image/jpeg;base64,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',width=400,height=400)"
      ],
      "metadata": {
        "_kg_hide-input": true,
        "execution": {
          "iopub.status.busy": "2023-10-12T04:06:58.745375Z",
          "iopub.execute_input": "2023-10-12T04:06:58.745992Z",
          "iopub.status.idle": "2023-10-12T04:06:58.755089Z",
          "shell.execute_reply.started": "2023-10-12T04:06:58.745783Z",
          "shell.execute_reply": "2023-10-12T04:06:58.754319Z"
        },
        "trusted": true,
        "id": "iTeKmn0JD_oW"
      },
      "execution_count": null,
      "outputs": []
    },
    {
      "cell_type": "code",
      "source": [
        "#codes from Rodrigo Lima  @rodrigolima82\n",
        "from IPython.display import Image\n",
        "Image(url = 'https://encrypted-tbn0.gstatic.com/images?q=tbn%3AANd9GcSr6esjaF9D1xae_4gmDVGT0qpi7x--J66ApPpKUdTkGiLE7P1J',width=400,height=400)"
      ],
      "metadata": {
        "_kg_hide-input": true,
        "execution": {
          "iopub.status.busy": "2023-10-12T04:06:58.756071Z",
          "iopub.execute_input": "2023-10-12T04:06:58.756369Z",
          "iopub.status.idle": "2023-10-12T04:06:58.771375Z",
          "shell.execute_reply.started": "2023-10-12T04:06:58.756328Z",
          "shell.execute_reply": "2023-10-12T04:06:58.770463Z"
        },
        "trusted": true,
        "id": "B8RslL4dD_oW"
      },
      "execution_count": null,
      "outputs": []
    }
  ]
}